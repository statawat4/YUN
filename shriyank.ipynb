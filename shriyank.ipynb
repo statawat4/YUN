{
 "cells": [
  {
   "cell_type": "code",
   "execution_count": 5,
   "metadata": {},
   "outputs": [
    {
     "ename": "ModuleNotFoundError",
     "evalue": "No module named 'eyed3'",
     "output_type": "error",
     "traceback": [
      "\u001b[0;31m---------------------------------------------------------------------------\u001b[0m",
      "\u001b[0;31mModuleNotFoundError\u001b[0m                       Traceback (most recent call last)",
      "Cell \u001b[0;32mIn[5], line 2\u001b[0m\n\u001b[1;32m      1\u001b[0m \u001b[39mimport\u001b[39;00m \u001b[39mlibrosa\u001b[39;00m\n\u001b[0;32m----> 2\u001b[0m \u001b[39mfrom\u001b[39;00m \u001b[39mpyAudioAnalysis\u001b[39;00m \u001b[39mimport\u001b[39;00m audioBasicIO\n\u001b[1;32m      3\u001b[0m \u001b[39mfrom\u001b[39;00m \u001b[39mpyAudioAnalysis\u001b[39;00m \u001b[39mimport\u001b[39;00m ShortTermFeatures\n\u001b[1;32m      4\u001b[0m \u001b[39mfrom\u001b[39;00m \u001b[39mpyAudioAnalysis\u001b[39;00m \u001b[39mimport\u001b[39;00m audioEmotionAnalysis\n",
      "File \u001b[0;32m~/.local/lib/python3.10/site-packages/pyAudioAnalysis/audioBasicIO.py:5\u001b[0m\n\u001b[1;32m      3\u001b[0m \u001b[39mimport\u001b[39;00m \u001b[39mglob\u001b[39;00m\n\u001b[1;32m      4\u001b[0m \u001b[39mimport\u001b[39;00m \u001b[39maifc\u001b[39;00m\n\u001b[0;32m----> 5\u001b[0m \u001b[39mimport\u001b[39;00m \u001b[39meyed3\u001b[39;00m\n\u001b[1;32m      6\u001b[0m \u001b[39mimport\u001b[39;00m \u001b[39mntpath\u001b[39;00m\n\u001b[1;32m      7\u001b[0m \u001b[39mimport\u001b[39;00m \u001b[39mshutil\u001b[39;00m\n",
      "\u001b[0;31mModuleNotFoundError\u001b[0m: No module named 'eyed3'"
     ]
    }
   ],
   "source": [
    "import librosa\n",
    "from pyAudioAnalysis import audioBasicIO\n",
    "from pyAudioAnalysis import ShortTermFeatures\n",
    "from pyAudioAnalysis import audioEmotionAnalysis\n",
    "import matplotlib.pyplot as plt\n",
    "\n",
    "audio_file = \"path/to/mp3/file.mp3\"\n",
    "\n",
    "# Load audio waveform\n",
    "y, sr = librosa.load(audio_file)\n",
    "\n",
    "# Apply pre-processing\n",
    "[Fs, x] = audioBasicIO.read_audio_file(audio_file)\n",
    "F, f_names = ShortTermFeatures.feature_extraction(x, Fs, Fs, Fs, Fs)\n",
    "\n",
    "# Apply emotion detection\n",
    "emotions, timestamp = audioEmotionAnalysis.file_classification(audio_file, \"svm\")\n",
    "\n",
    "# Plot emotional changes\n",
    "plt.plot(timestamp, emotions)\n",
    "plt.xlabel('Time (in seconds)')\n",
    "plt.ylabel('Emotion')\n",
    "plt.title('Emotional Changes throughout the Audio File')\n",
    "plt.show()\n"
   ]
  }
 ],
 "metadata": {
  "kernelspec": {
   "display_name": "Python 3",
   "language": "python",
   "name": "python3"
  },
  "language_info": {
   "codemirror_mode": {
    "name": "ipython",
    "version": 3
   },
   "file_extension": ".py",
   "mimetype": "text/x-python",
   "name": "python",
   "nbconvert_exporter": "python",
   "pygments_lexer": "ipython3",
   "version": "3.10.6"
  },
  "orig_nbformat": 4
 },
 "nbformat": 4,
 "nbformat_minor": 2
}
